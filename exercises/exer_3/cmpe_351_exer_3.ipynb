{
 "cells": [
  {
   "cell_type": "markdown",
   "metadata": {},
   "source": [
    "# CMPE 351 Exercise 3\n",
    "\n",
    "Analysis will be done on the title."
   ]
  },
  {
   "cell_type": "markdown",
   "metadata": {
    "lines_to_next_cell": 2
   },
   "source": [
    "\n",
    "## Setting up"
   ]
  },
  {
   "cell_type": "code",
   "execution_count": 1,
   "metadata": {},
   "outputs": [
    {
     "name": "stderr",
     "output_type": "stream",
     "text": [
      "/home/bryan/.local/share/virtualenvs/cmpe-351-_rWzjxJw/lib/python3.9/site-packages/past/builtins/misc.py:45: DeprecationWarning: the imp module is deprecated in favour of importlib; see the module's documentation for alternative uses\n",
      "  from imp import reload\n",
      "/home/bryan/.local/share/virtualenvs/cmpe-351-_rWzjxJw/lib/python3.9/site-packages/gensim/matutils.py:22: DeprecationWarning: Please use `triu` from the `scipy.linalg` namespace, the `scipy.linalg.special_matrices` namespace is deprecated.\n",
      "  from scipy.linalg.special_matrices import triu\n"
     ]
    }
   ],
   "source": [
    "# Resolving paths in a platform agnostic way.\n",
    "import multiprocessing\n",
    "import pickle\n",
    "from os.path import dirname, join, realpath\n",
    "from pathlib import Path\n",
    "from string import punctuation\n",
    "\n",
    "import nltk\n",
    "import pandas as pd\n",
    "import pyLDAvis\n",
    "import pyLDAvis.gensim_models as gensimvis\n",
    "from gensim.corpora import Dictionary\n",
    "from gensim.models import Word2Vec\n",
    "from gensim.models.ldamodel import LdaModel\n",
    "from nltk.corpus import stopwords\n",
    "from nltk.corpus import wordnet as wn\n",
    "from nltk.stem.porter import PorterStemmer\n",
    "from spacy.lang.en import English"
   ]
  },
  {
   "cell_type": "code",
   "execution_count": 2,
   "metadata": {},
   "outputs": [],
   "source": [
    "def is_interactive():\n",
    "    \"\"\"Check if the script is being run interactively.\"\"\"\n",
    "    import __main__ as main\n",
    "\n",
    "    return not hasattr(main, \"__file__\")\n",
    "\n",
    "\n",
    "if is_interactive():\n",
    "    SCRIPT_DIR = dirname(realpath(\"__file__\"))\n",
    "else:\n",
    "    SCRIPT_DIR = dirname(realpath(__file__))\n",
    "\n",
    "DATA_DIR = join(SCRIPT_DIR, \"data\")\n",
    "MODELS_DIR = join(SCRIPT_DIR, \"models\")\n",
    "Path(MODELS_DIR).mkdir(parents=True, exist_ok=True)"
   ]
  },
  {
   "cell_type": "code",
   "execution_count": 3,
   "metadata": {},
   "outputs": [
    {
     "data": {
      "text/html": [
       "<div>\n",
       "<style scoped>\n",
       "    .dataframe tbody tr th:only-of-type {\n",
       "        vertical-align: middle;\n",
       "    }\n",
       "\n",
       "    .dataframe tbody tr th {\n",
       "        vertical-align: top;\n",
       "    }\n",
       "\n",
       "    .dataframe thead th {\n",
       "        text-align: right;\n",
       "    }\n",
       "</style>\n",
       "<table border=\"1\" class=\"dataframe\">\n",
       "  <thead>\n",
       "    <tr style=\"text-align: right;\">\n",
       "      <th></th>\n",
       "      <th>Id</th>\n",
       "      <th>OwnerUserId</th>\n",
       "      <th>CreationDate</th>\n",
       "      <th>Score</th>\n",
       "      <th>Title</th>\n",
       "      <th>Body</th>\n",
       "    </tr>\n",
       "  </thead>\n",
       "  <tbody>\n",
       "    <tr>\n",
       "      <th>0</th>\n",
       "      <td>77434</td>\n",
       "      <td>14008.0</td>\n",
       "      <td>2008-09-16T21:40:29Z</td>\n",
       "      <td>171</td>\n",
       "      <td>How to access the last value in a vector?</td>\n",
       "      <td>&lt;p&gt;Suppose I have a vector that is nested in a...</td>\n",
       "    </tr>\n",
       "    <tr>\n",
       "      <th>1</th>\n",
       "      <td>79709</td>\n",
       "      <td>NaN</td>\n",
       "      <td>2008-09-17T03:39:16Z</td>\n",
       "      <td>3</td>\n",
       "      <td>Worse sin: side effects or passing massive obj...</td>\n",
       "      <td>&lt;p&gt;I have a function inside a loop inside a fu...</td>\n",
       "    </tr>\n",
       "    <tr>\n",
       "      <th>2</th>\n",
       "      <td>95007</td>\n",
       "      <td>15842.0</td>\n",
       "      <td>2008-09-18T17:59:19Z</td>\n",
       "      <td>56</td>\n",
       "      <td>Explain the quantile() function in R</td>\n",
       "      <td>&lt;p&gt;I've been mystified by the R quantile funct...</td>\n",
       "    </tr>\n",
       "    <tr>\n",
       "      <th>3</th>\n",
       "      <td>103312</td>\n",
       "      <td>NaN</td>\n",
       "      <td>2008-09-19T16:09:26Z</td>\n",
       "      <td>4</td>\n",
       "      <td>How to test for the EOF flag in R?</td>\n",
       "      <td>&lt;p&gt;How can I test for the &lt;code&gt;EOF&lt;/code&gt; fla...</td>\n",
       "    </tr>\n",
       "    <tr>\n",
       "      <th>4</th>\n",
       "      <td>255697</td>\n",
       "      <td>1941213.0</td>\n",
       "      <td>2008-11-01T15:48:30Z</td>\n",
       "      <td>4</td>\n",
       "      <td>Is there an R package for learning a Dirichlet...</td>\n",
       "      <td>&lt;p&gt;I'm looking for a an &lt;code&gt;R&lt;/code&gt; package...</td>\n",
       "    </tr>\n",
       "  </tbody>\n",
       "</table>\n",
       "</div>"
      ],
      "text/plain": [
       "       Id  OwnerUserId          CreationDate  Score  \\\n",
       "0   77434      14008.0  2008-09-16T21:40:29Z    171   \n",
       "1   79709          NaN  2008-09-17T03:39:16Z      3   \n",
       "2   95007      15842.0  2008-09-18T17:59:19Z     56   \n",
       "3  103312          NaN  2008-09-19T16:09:26Z      4   \n",
       "4  255697    1941213.0  2008-11-01T15:48:30Z      4   \n",
       "\n",
       "                                               Title  \\\n",
       "0          How to access the last value in a vector?   \n",
       "1  Worse sin: side effects or passing massive obj...   \n",
       "2               Explain the quantile() function in R   \n",
       "3                 How to test for the EOF flag in R?   \n",
       "4  Is there an R package for learning a Dirichlet...   \n",
       "\n",
       "                                                Body  \n",
       "0  <p>Suppose I have a vector that is nested in a...  \n",
       "1  <p>I have a function inside a loop inside a fu...  \n",
       "2  <p>I've been mystified by the R quantile funct...  \n",
       "3  <p>How can I test for the <code>EOF</code> fla...  \n",
       "4  <p>I'm looking for a an <code>R</code> package...  "
      ]
     },
     "execution_count": 3,
     "metadata": {},
     "output_type": "execute_result"
    }
   ],
   "source": [
    "raw_questions_df = pd.read_csv(join(DATA_DIR, \"questions.csv\"))\n",
    "raw_questions_df.head()"
   ]
  },
  {
   "cell_type": "code",
   "execution_count": 4,
   "metadata": {},
   "outputs": [],
   "source": [
    "pd.set_option(\"display.max_colwidth\", None)"
   ]
  },
  {
   "cell_type": "code",
   "execution_count": 5,
   "metadata": {},
   "outputs": [
    {
     "name": "stderr",
     "output_type": "stream",
     "text": [
      "[nltk_data] Downloading package stopwords to /home/bryan/nltk_data...\n",
      "[nltk_data]   Package stopwords is already up-to-date!\n",
      "[nltk_data] Downloading package punkt to /home/bryan/nltk_data...\n",
      "[nltk_data]   Package punkt is already up-to-date!\n",
      "[nltk_data] Downloading package wordnet to /home/bryan/nltk_data...\n",
      "[nltk_data]   Package wordnet is already up-to-date!\n",
      "[nltk_data] Downloading package omw-1.4 to /home/bryan/nltk_data...\n",
      "[nltk_data]   Package omw-1.4 is already up-to-date!\n"
     ]
    },
    {
     "data": {
      "text/plain": [
       "True"
      ]
     },
     "execution_count": 5,
     "metadata": {},
     "output_type": "execute_result"
    }
   ],
   "source": [
    "nltk.download(\"stopwords\")\n",
    "nltk.download(\"punkt\")\n",
    "nltk.download(\"wordnet\")\n",
    "nltk.download(\"omw-1.4\")"
   ]
  },
  {
   "cell_type": "code",
   "execution_count": 6,
   "metadata": {},
   "outputs": [],
   "source": [
    "stop_words = set(stopwords.words(\"english\"))"
   ]
  },
  {
   "cell_type": "markdown",
   "metadata": {},
   "source": [
    "## Data Preprocessing"
   ]
  },
  {
   "cell_type": "code",
   "execution_count": 7,
   "metadata": {},
   "outputs": [
    {
     "data": {
      "text/plain": [
       "0                                How to access the last value in a vector?\n",
       "1                      Worse sin: side effects or passing massive objects?\n",
       "2                                     Explain the quantile() function in R\n",
       "3                                       How to test for the EOF flag in R?\n",
       "4    Is there an R package for learning a Dirichlet prior from counts data\n",
       "Name: Title, dtype: object"
      ]
     },
     "execution_count": 7,
     "metadata": {},
     "output_type": "execute_result"
    }
   ],
   "source": [
    "question_titles_df = raw_questions_df[\"Title\"]\n",
    "question_titles_df.head()"
   ]
  },
  {
   "cell_type": "markdown",
   "metadata": {},
   "source": [
    "Lower casing the text."
   ]
  },
  {
   "cell_type": "code",
   "execution_count": 8,
   "metadata": {},
   "outputs": [
    {
     "data": {
      "text/plain": [
       "0                                how to access the last value in a vector?\n",
       "1                      worse sin: side effects or passing massive objects?\n",
       "2                                     explain the quantile() function in r\n",
       "3                                       how to test for the eof flag in r?\n",
       "4    is there an r package for learning a dirichlet prior from counts data\n",
       "Name: Title, dtype: object"
      ]
     },
     "execution_count": 8,
     "metadata": {},
     "output_type": "execute_result"
    }
   ],
   "source": [
    "question_titles_df = question_titles_df.str.lower()\n",
    "question_titles_df.head()"
   ]
  },
  {
   "cell_type": "markdown",
   "metadata": {},
   "source": [
    "Removing Punctuation"
   ]
  },
  {
   "cell_type": "code",
   "execution_count": 9,
   "metadata": {},
   "outputs": [
    {
     "data": {
      "text/plain": [
       "0                                 how to access the last value in a vector\n",
       "1                        worse sin side effects or passing massive objects\n",
       "2                                       explain the quantile function in r\n",
       "3                                        how to test for the eof flag in r\n",
       "4    is there an r package for learning a dirichlet prior from counts data\n",
       "Name: Title, dtype: object"
      ]
     },
     "execution_count": 9,
     "metadata": {},
     "output_type": "execute_result"
    }
   ],
   "source": [
    "PUNCTUATION_TO_REMOVE = punctuation\n",
    "\n",
    "\n",
    "def remove_punctuation(text: str):\n",
    "    \"\"\"Remove punctuation form a string.\"\"\"\n",
    "    return text.translate(str.maketrans(\"\", \"\", PUNCTUATION_TO_REMOVE))\n",
    "\n",
    "\n",
    "question_titles_df = question_titles_df.apply(remove_punctuation)\n",
    "question_titles_df.head()"
   ]
  },
  {
   "cell_type": "markdown",
   "metadata": {},
   "source": [
    "Removing stop words"
   ]
  },
  {
   "cell_type": "code",
   "execution_count": 10,
   "metadata": {},
   "outputs": [
    {
     "data": {
      "text/plain": [
       "0                          access last value vector\n",
       "1    worse sin side effects passing massive objects\n",
       "2                       explain quantile function r\n",
       "3                                   test eof flag r\n",
       "4    r package learning dirichlet prior counts data\n",
       "Name: Title, dtype: object"
      ]
     },
     "execution_count": 10,
     "metadata": {},
     "output_type": "execute_result"
    }
   ],
   "source": [
    "def remove_stopwords(text: str):\n",
    "    \"\"\"Remove stopwords from a string.\"\"\"\n",
    "    return \" \".join(\n",
    "        [word for word in str(text).split() if word not in stop_words]\n",
    "    )\n",
    "\n",
    "\n",
    "question_titles_df = question_titles_df.apply(remove_stopwords)\n",
    "question_titles_df.head()"
   ]
  },
  {
   "cell_type": "markdown",
   "metadata": {},
   "source": [
    "Stemming the words."
   ]
  },
  {
   "cell_type": "code",
   "execution_count": 11,
   "metadata": {},
   "outputs": [
    {
     "data": {
      "text/plain": [
       "0                      access last valu vector\n",
       "1      wors sin side effect pass massiv object\n",
       "2                   explain quantil function r\n",
       "3                              test eof flag r\n",
       "4    r packag learn dirichlet prior count data\n",
       "Name: Title, dtype: object"
      ]
     },
     "execution_count": 11,
     "metadata": {},
     "output_type": "execute_result"
    }
   ],
   "source": [
    "stemmer = PorterStemmer()\n",
    "\n",
    "\n",
    "def stem_words(text: str):\n",
    "    \"\"\"Stem words in a string.\"\"\"\n",
    "    return \" \".join([stemmer.stem(word) for word in text.split()])\n",
    "\n",
    "\n",
    "question_titles_df = question_titles_df.apply(stem_words)\n",
    "question_titles_df.head()"
   ]
  },
  {
   "cell_type": "markdown",
   "metadata": {},
   "source": [
    "Tokenizing the text."
   ]
  },
  {
   "cell_type": "code",
   "execution_count": 12,
   "metadata": {},
   "outputs": [
    {
     "data": {
      "text/plain": [
       "0                         [access, last, valu, vector]\n",
       "1      [wors, sin, side, effect, pass, massiv, object]\n",
       "2                      [explain, quantil, function, r]\n",
       "3                                 [test, eof, flag, r]\n",
       "4    [r, packag, learn, dirichlet, prior, count, data]\n",
       "Name: Title, dtype: object"
      ]
     },
     "execution_count": 12,
     "metadata": {},
     "output_type": "execute_result"
    }
   ],
   "source": [
    "question_titles_df = question_titles_df.apply(nltk.word_tokenize)\n",
    "question_titles_df.head()"
   ]
  },
  {
   "cell_type": "markdown",
   "metadata": {},
   "source": [
    "## Learning word vectors from text corpus"
   ]
  },
  {
   "cell_type": "code",
   "execution_count": 13,
   "metadata": {},
   "outputs": [],
   "source": [
    "cores = multiprocessing.cpu_count()\n",
    "model = Word2Vec(\n",
    "    sentences=question_titles_df,\n",
    "    min_count=1,\n",
    "    workers=cores - 1,\n",
    ")\n",
    "model.save(join(MODELS_DIR, \"word2vec.model\"))"
   ]
  },
  {
   "cell_type": "markdown",
   "metadata": {},
   "source": [
    "## Topic Modelling"
   ]
  },
  {
   "cell_type": "code",
   "execution_count": 14,
   "metadata": {},
   "outputs": [
    {
     "data": {
      "text/plain": [
       "0                                How to access the last value in a vector?\n",
       "1                      Worse sin: side effects or passing massive objects?\n",
       "2                                     Explain the quantile() function in R\n",
       "3                                       How to test for the EOF flag in R?\n",
       "4    Is there an R package for learning a Dirichlet prior from counts data\n",
       "Name: Title, dtype: object"
      ]
     },
     "execution_count": 14,
     "metadata": {},
     "output_type": "execute_result"
    }
   ],
   "source": [
    "question_titles_df = raw_questions_df[\"Title\"]\n",
    "question_titles_df.head()"
   ]
  },
  {
   "cell_type": "code",
   "execution_count": 15,
   "metadata": {},
   "outputs": [],
   "source": [
    "parser = English()\n",
    "\n",
    "\n",
    "def tokenize(text: str):\n",
    "    lda_tokens: list[str] = []\n",
    "    tokens = parser(text)\n",
    "    for token in tokens:\n",
    "        if token.orth_.isspace():\n",
    "            continue\n",
    "        if token.like_url:\n",
    "            lda_tokens.append(\"URL\")\n",
    "        elif token.orth_.startswith(\"@\"):\n",
    "            lda_tokens.append(\"SCREEN_NAME\")\n",
    "        else:\n",
    "            lda_tokens.append(token.lower_)\n",
    "    return lda_tokens"
   ]
  },
  {
   "cell_type": "code",
   "execution_count": 16,
   "id": "38725def",
   "metadata": {},
   "outputs": [],
   "source": [
    "def get_lemma(word: str):\n",
    "    lemma = wn.morphy(word)\n",
    "    if lemma is None:\n",
    "        return word\n",
    "    return lemma"
   ]
  },
  {
   "cell_type": "code",
   "execution_count": 17,
   "metadata": {},
   "outputs": [],
   "source": [
    "def prepare_text_for_lda(text):\n",
    "    tokens = tokenize(text)\n",
    "    tokens = [token for token in tokens if len(token) > 4]\n",
    "    tokens = [token for token in tokens if token not in stop_words]\n",
    "    tokens = [get_lemma(token) for token in tokens]\n",
    "    return tokens"
   ]
  },
  {
   "cell_type": "code",
   "execution_count": 18,
   "metadata": {},
   "outputs": [
    {
     "data": {
      "text/plain": [
       "0                         [access, value, vector]\n",
       "1      [worse, effects, passing, massive, object]\n",
       "2                   [explain, quantile, function]\n",
       "3                                              []\n",
       "4    [package, learning, dirichlet, prior, count]\n",
       "Name: Title, dtype: object"
      ]
     },
     "execution_count": 18,
     "metadata": {},
     "output_type": "execute_result"
    }
   ],
   "source": [
    "tokenized_question_titles = question_titles_df.apply(prepare_text_for_lda)\n",
    "tokenized_question_titles.head()"
   ]
  },
  {
   "cell_type": "code",
   "execution_count": 19,
   "metadata": {},
   "outputs": [],
   "source": [
    "dictionary = Dictionary(documents=tokenized_question_titles)\n",
    "corpus = tokenized_question_titles.apply(dictionary.doc2bow)\n",
    "pickle.dump(corpus, open(join(MODELS_DIR, \"corpus.pkl\"), \"wb\"))\n",
    "dictionary.save(join(MODELS_DIR, \"dictionary.gensim\"))"
   ]
  },
  {
   "cell_type": "markdown",
   "metadata": {},
   "source": [
    "> Briefly specify how you [picked] the number of topics.\n",
    "\n",
    "I picked 5 as the number of topics because it was the first number used in [this tutorial I followed](https://towardsdatascience.com/topic-modelling-in-python-with-nltk-and-gensim-4ef03213cd21#afa6)."
   ]
  },
  {
   "cell_type": "code",
   "execution_count": 20,
   "metadata": {},
   "outputs": [
    {
     "name": "stdout",
     "output_type": "stream",
     "text": [
      "(0, '0.100*\"column\" + 0.052*\"values\" + 0.033*\"value\" + 0.031*\"frame\"')\n",
      "(1, '0.054*\"shiny\" + 0.045*\"create\" + 0.044*\"error\" + 0.043*\"using\"')\n",
      "(2, '0.065*\"multiple\" + 0.039*\"ggplot2\" + 0.035*\"ggplot\" + 0.029*\"plot\"')\n",
      "(3, '0.084*\"variable\" + 0.030*\"group\" + 0.026*\"using\" + 0.026*\"calculate\"')\n",
      "(4, '0.083*\"function\" + 0.030*\"error\" + 0.025*\"using\" + 0.021*\"object\"')\n"
     ]
    }
   ],
   "source": [
    "NUM_TOPICS = 5\n",
    "ldamodel = LdaModel(corpus, num_topics=NUM_TOPICS, id2word=dictionary)\n",
    "ldamodel.save(join(MODELS_DIR, \"lda_model_5.gensim\"))\n",
    "topics = ldamodel.print_topics(num_words=4)\n",
    "for topic in topics:\n",
    "    print(topic)"
   ]
  },
  {
   "cell_type": "markdown",
   "metadata": {},
   "source": [
    "## Summmary"
   ]
  },
  {
   "cell_type": "code",
   "execution_count": 21,
   "metadata": {},
   "outputs": [
    {
     "name": "stderr",
     "output_type": "stream",
     "text": [
      "/home/bryan/.local/share/virtualenvs/cmpe-351-_rWzjxJw/lib/python3.9/site-packages/pyLDAvis/_prepare.py:246: FutureWarning: In a future version of pandas all arguments of DataFrame.drop except for the argument 'labels' will be keyword-only.\n",
      "  default_term_info = default_term_info.sort_values(\n",
      "/home/bryan/.local/share/virtualenvs/cmpe-351-_rWzjxJw/lib/python3.9/site-packages/past/builtins/misc.py:45: DeprecationWarning: the imp module is deprecated in favour of importlib; see the module's documentation for alternative uses\n",
      "  from imp import reload\n",
      "/home/bryan/.local/share/virtualenvs/cmpe-351-_rWzjxJw/lib/python3.9/site-packages/past/builtins/misc.py:45: DeprecationWarning: the imp module is deprecated in favour of importlib; see the module's documentation for alternative uses\n",
      "  from imp import reload\n",
      "/home/bryan/.local/share/virtualenvs/cmpe-351-_rWzjxJw/lib/python3.9/site-packages/past/builtins/misc.py:45: DeprecationWarning: the imp module is deprecated in favour of importlib; see the module's documentation for alternative uses\n",
      "  from imp import reload\n",
      "/home/bryan/.local/share/virtualenvs/cmpe-351-_rWzjxJw/lib/python3.9/site-packages/past/builtins/misc.py:45: DeprecationWarning: the imp module is deprecated in favour of importlib; see the module's documentation for alternative uses\n",
      "  from imp import reload\n",
      "/home/bryan/.local/share/virtualenvs/cmpe-351-_rWzjxJw/lib/python3.9/site-packages/past/builtins/misc.py:45: DeprecationWarning: the imp module is deprecated in favour of importlib; see the module's documentation for alternative uses\n",
      "  from imp import reload\n",
      "/home/bryan/.local/share/virtualenvs/cmpe-351-_rWzjxJw/lib/python3.9/site-packages/past/builtins/misc.py:45: DeprecationWarning: the imp module is deprecated in favour of importlib; see the module's documentation for alternative uses\n",
      "  from imp import reload\n",
      "/home/bryan/.local/share/virtualenvs/cmpe-351-_rWzjxJw/lib/python3.9/site-packages/past/builtins/misc.py:45: DeprecationWarning: the imp module is deprecated in favour of importlib; see the module's documentation for alternative uses\n",
      "  from imp import reload\n",
      "/home/bryan/.local/share/virtualenvs/cmpe-351-_rWzjxJw/lib/python3.9/site-packages/past/builtins/misc.py:45: DeprecationWarning: the imp module is deprecated in favour of importlib; see the module's documentation for alternative uses\n",
      "  from imp import reload\n"
     ]
    },
    {
     "data": {
      "text/html": [
       "\n",
       "<link rel=\"stylesheet\" type=\"text/css\" href=\"https://cdn.jsdelivr.net/gh/bmabey/pyLDAvis@3.3.1/pyLDAvis/js/ldavis.v1.0.0.css\">\n",
       "\n",
       "\n",
       "<div id=\"ldavis_el202091405722216315048749695192\"></div>\n",
       "<script type=\"text/javascript\">\n",
       "\n",
       "var ldavis_el202091405722216315048749695192_data = {\"mdsDat\": {\"x\": [0.09734487164688786, 0.12689076655295323, -0.3630938902670611, -0.05913936460837837, 0.19799761667559854], \"y\": [-0.27614963331939807, 0.21290500452274275, -0.08421323400295484, 0.23297910886797576, -0.08552124606836609], \"topics\": [1, 2, 3, 4, 5], \"cluster\": [1, 1, 1, 1, 1], \"Freq\": [24.740687022935255, 19.76982335794465, 17.847151896557882, 15.698493554050211, 21.943844168512]}, \"tinfo\": {\"Term\": [\"column\", \"function\", \"variable\", \"multiple\", \"values\", \"shiny\", \"create\", \"error\", \"ggplot2\", \"ggplot\", \"value\", \"dplyr\", \"plot\", \"base\", \"group\", \"calculate\", \"package\", \"model\", \"remove\", \"character\", \"label\", \"output\", \"object\", \"frame\", \"dataframe\", \"matrix\", \"vector\", \"point\", \"different\", \"apply\", \"values\", \"select\", \"format\", \"count\", \"length\", \"replace\", \"rmarkdown\", \"interval\", \"certain\", \"install\", \"store\", \"condition\", \"miss\", \"every\", \"match\", \"combine\", \"predict\", \"fail\", \"histogram\", \"index\", \"sequence\", \"produce\", \"array\", \"second\", \"previous\", \"studio\", \"wrong\", \"break\", \"colors\", \"accord\", \"barplot\", \"column\", \"value\", \"base\", \"display\", \"stack\", \"another\", \"dataframe\", \"frame\", \"matrix\", \"number\", \"specific\", \"different\", \"vector\", \"extract\", \"elements\", \"convert\", \"graph\", \"string\", \"using\", \"table\", \"change\", \"shiny\", \"create\", \"list\", \"conditional\", \"image\", \"excel\", \"output\", \"connect\", \"download\", \"correlation\", \"statement\", \"installing\", \"reactive\", \"pattern\", \"try\", \"linear\", \"import\", \"regex\", \"categorical\", \"igraph\", \"grouping\", \"scraping\", \"delete\", \"unable\", \"rvest\", \"button\", \"query\", \"default\", \"weight\", \"loading\", \"large\", \"write\", \"reading\", \"space\", \"error\", \"package\", \"input\", \"using\", \"regression\", \"issue\", \"table\", \"file\", \"matrix\", \"multiple\", \"dplyr\", \"remove\", \"legend\", \"plotly\", \"single\", \"chart\", \"color\", \"date\", \"merge\", \"duplicate\", \"leaflet\", \"point\", \"label\", \"markdown\", \"ggplot\", \"distance\", \"range\", \"position\", \"line\", \"conditions\", \"parse\", \"add\", \"facet\", \"header\", \"transform\", \"prediction\", \"empty\", \"percentage\", \"start\", \"ggplot2\", \"plot\", \"parallel\", \"title\", \"attribute\", \"print\", \"document\", \"change\", \"file\", \"using\", \"group\", \"different\", \"table\", \"variable\", \"calculate\", \"filter\", \"random\", \"distribution\", \"frequency\", \"assign\", \"possible\", \"caret\", \"average\", \"reference\", \"curve\", \"given\", \"calculation\", \"category\", \"network\", \"several\", \"subsetting\", \"compare\", \"panel\", \"merging\", \"connection\", \"estimate\", \"forecast\", \"memory\", \"density\", \"maximum\", \"fix\", \"multi\", \"probability\", \"across\", \"setting\", \"separate\", \"boxplot\", \"series\", \"programming\", \"model\", \"group\", \"generate\", \"difference\", \"using\", \"regression\", \"analysis\", \"package\", \"factor\", \"function\", \"character\", \"apply\", \"argument\", \"level\", \"rstudio\", \"names\", \"subset\", \"dataset\", \"server\", \"inside\", \"script\", \"running\", \"message\", \"combination\", \"check\", \"found\", \"define\", \"words\", \"warning\", \"mutate\", \"first\", \"environment\", \"passing\", \"invalid\", \"looping\", \"operator\", \"build\", \"append\", \"chunk\", \"working\", \"lapply\", \"modify\", \"numeric\", \"object\", \"factor\", \"split\", \"return\", \"within\", \"error\", \"string\", \"convert\", \"using\", \"package\", \"vector\", \"nest\", \"frame\", \"result\", \"dataframe\"], \"Freq\": [20234.0, 14213.0, 10326.0, 9046.0, 10048.0, 8322.0, 6932.0, 12086.0, 5458.0, 4864.0, 6548.0, 4039.0, 4072.0, 5557.0, 5240.0, 3251.0, 8387.0, 3709.0, 3038.0, 3440.0, 2960.0, 3142.0, 3856.0, 8238.0, 6700.0, 5421.0, 5699.0, 2572.0, 4543.0, 2575.0, 10047.500900326942, 2287.0322143229455, 1955.025213418602, 1840.4574316268133, 1661.4284279312176, 1649.7622300736655, 1474.5900974566684, 1223.168965771887, 1109.6012572653215, 1097.2744514317271, 1111.591926606982, 1542.228537746138, 1584.3233191964346, 1004.9710268005254, 2678.1603346178326, 1083.3086265740922, 899.5169092466032, 890.0747010774899, 908.0270093997868, 1406.3012484945166, 855.4853432697435, 816.4728273986068, 875.9500198135378, 734.8665314167623, 663.2961242929804, 647.6368540402768, 615.06461155547, 579.4479221473256, 605.5226217061388, 563.6643648085434, 768.0401266328688, 19450.307626151647, 6354.516199528804, 5385.443741998313, 1361.1057885634193, 982.1320787975436, 2570.6636486122316, 5166.2157636469, 6085.066851432116, 4151.975375278454, 2845.58090642181, 2209.7186065548713, 3333.8778800879677, 3854.792225899818, 2171.782613614498, 1404.1636369770129, 1963.8227895116268, 1479.5756613540143, 1758.5516100856717, 2518.9201456646097, 1635.8787217174856, 1566.0797440427823, 8321.268076593535, 6930.201935623776, 1209.3355783690306, 1222.0331770201358, 1024.9921597985337, 1016.3906584294294, 3140.2194071324916, 922.6845715280152, 889.5447846014437, 918.9961221865317, 866.9414563950386, 830.7954462185184, 833.1405037447013, 841.3422187489278, 836.3491805985128, 1071.6897027255757, 801.9493778331513, 771.2137905614295, 773.909084888595, 697.8921201732107, 702.9745206375502, 677.2685386616507, 671.6643170986481, 1023.897958293652, 650.135356146657, 643.2072163960855, 616.4269392903191, 617.6218266630285, 615.4323417850579, 590.7526199906205, 1287.5368349949902, 1012.9643096923055, 803.8250488064525, 649.7743727881485, 6869.385940466685, 5016.4728582764765, 1383.7483844154592, 6662.539086187591, 1379.5580924748742, 990.9848588187872, 1608.3321073307984, 1028.1255386251157, 1237.5435608857213, 9045.220471827868, 4039.15792218018, 3037.9277022680462, 2021.7294217709446, 1810.3364282573584, 1432.5740351471545, 1421.1122906753449, 1839.1253071723388, 1367.9064243579392, 1245.9701991114378, 1189.9341213105818, 1137.4192047553545, 2570.9685911499114, 2958.488794009327, 1005.0372150680491, 4860.900072887445, 960.8188393671437, 1121.704460051214, 826.2124237775519, 1372.764428848672, 1075.0489433261755, 768.5692952765369, 1974.3378990044753, 722.0874275352649, 653.0729926720959, 652.3339915600789, 628.316715860444, 607.1037377726661, 592.4319938450367, 573.3272198987568, 5436.0968679342595, 4062.834345825065, 712.3452442412852, 676.3623359988363, 683.1998868163231, 686.6204527563951, 774.6035160746345, 2518.657730055923, 1400.4436992217145, 2575.928428040573, 1491.5997142748276, 1208.7059215399581, 1032.4955013200179, 10323.926481376797, 3250.259621034524, 2038.640093793502, 1445.9873037355685, 1040.4137000236083, 997.6762440809454, 980.4573491630715, 1046.9687627758756, 916.650924094794, 888.4794342868, 881.5223258530401, 864.7914983564881, 892.6062442114883, 799.2374345459391, 772.6123888250766, 765.7549327397207, 815.3633035619204, 699.570711004177, 679.9794029367092, 618.7882792993946, 597.3026602688144, 590.7330505645388, 578.9716680513361, 547.9645534880626, 543.4433149866735, 538.7894357732706, 531.6561603144008, 528.1858531884234, 521.5453986824373, 516.9731885775542, 770.0498916844749, 671.3353062416892, 1027.1803263272543, 641.2205956398142, 2049.619491729055, 676.4991305758913, 3070.720681174869, 3748.5898597269234, 1308.951121356645, 1031.2534728896123, 3257.541802301354, 1186.115169539454, 774.7816600897339, 836.834261097563, 748.9633402192281, 14213.213814341452, 3439.6657892540784, 2574.485830545926, 2338.036582908535, 1918.157949949044, 1860.3810094854919, 2433.1030534954607, 2228.918551102884, 1438.3035628135688, 1405.1234590896183, 1403.9652111907083, 1366.5323811130181, 1098.2670211604154, 985.3596262052613, 899.9011373598066, 877.0668100024558, 851.6593278229615, 831.8603977102249, 793.1758945678775, 787.0772406461898, 752.2365386248181, 1353.6196942798265, 609.9952027139808, 597.276931489201, 554.5412425713215, 522.4140332603147, 498.2356483984848, 499.56613643801603, 502.64548433900995, 507.34476217050207, 1559.9844374298623, 813.1880934394403, 641.7611600451817, 1505.783271133626, 3673.141282643963, 2152.3656340552293, 1371.3259647245018, 1937.584300180558, 1950.4337428998335, 5211.814535135929, 2140.286648743965, 1964.0208201325565, 4223.612606373099, 2526.4801857382613, 1844.2255807810493, 1012.8405546511209, 1568.185037497098, 1125.4359719962356, 1115.4005721228677], \"Total\": [20234.0, 14213.0, 10326.0, 9046.0, 10048.0, 8322.0, 6932.0, 12086.0, 5458.0, 4864.0, 6548.0, 4039.0, 4072.0, 5557.0, 5240.0, 3251.0, 8387.0, 3709.0, 3038.0, 3440.0, 2960.0, 3142.0, 3856.0, 8238.0, 6700.0, 5421.0, 5699.0, 2572.0, 4543.0, 2575.0, 10048.703113022106, 2287.8695615743763, 1955.810520914762, 1841.241195905182, 1662.2287983083863, 1650.620330171712, 1475.384060237616, 1223.9558950542432, 1110.3837618872724, 1098.0679644675065, 1112.398785182339, 1543.3832339875346, 1585.6036192477607, 1005.8132099524053, 2680.4494323381346, 1084.257719433101, 900.3078858102505, 890.8732479244826, 908.8639632009342, 1407.634665058463, 856.3160050287643, 817.2861961661724, 876.9465940675734, 735.7259598628584, 664.0793371880684, 648.4280853189354, 615.8534741789696, 580.2369471203016, 606.3556518970115, 564.4505542940755, 769.5085367293019, 20234.393522511724, 6548.633665257392, 5557.442436567805, 1374.8954185181658, 989.5769127445253, 2796.7403841643236, 6700.197363647974, 8238.391317904658, 5421.33827615547, 3530.8857838178023, 2649.5488578940985, 4543.267891941511, 5699.820528283047, 3364.847148921961, 1764.6493168625311, 3928.6366893704126, 2242.6155517449074, 3916.3032694545313, 19238.54206856723, 4975.616966679044, 4505.198890372122, 8322.060778927136, 6932.305335154329, 1210.1323211520005, 1222.8385021771528, 1025.7828215594343, 1017.1823691058942, 3142.7994103499705, 923.4748548268923, 890.3326261659619, 919.8352349584022, 867.7443615157489, 831.5834913447525, 833.9313221582436, 842.1412213376692, 837.1564698860628, 1072.73083137166, 802.745601659204, 772.0096296503096, 774.7141759302782, 698.6828600232436, 703.775890685851, 678.0560249210556, 672.4606090681734, 1025.119332169168, 650.9250771098946, 643.9960118442278, 617.2187508087343, 618.4203469801821, 616.2309225263591, 591.541272511816, 1291.2019057105622, 1015.23757079373, 813.3692856521773, 652.0495800408781, 12086.576478971938, 8387.628136752843, 1917.8122355522585, 19238.54206856723, 2566.276914783553, 1473.8421431776915, 4975.616966679044, 2429.4865891593595, 5421.33827615547, 9046.014743691845, 4039.9352531045797, 3038.727755985806, 2022.4969074422136, 1811.1355996446828, 1433.3495665796129, 1421.8944806212046, 1840.2063601643297, 1368.7489233048695, 1246.7483498093948, 1190.7076295268212, 1138.1907842299863, 2572.7767572031025, 2960.6065756227226, 1005.8185831842844, 4864.822476402846, 961.5957009796635, 1122.7109371108495, 826.9957870045582, 1374.0754790024564, 1076.1121979364552, 769.3425644098412, 1976.5657862315097, 722.9122864482648, 653.8461969449869, 653.1115826571291, 629.093726138425, 607.8768229115497, 593.2069333150173, 574.1026697597881, 5458.512520042976, 4072.3758085742293, 713.4530687901981, 677.3815048963154, 684.5067712165645, 688.9462641573858, 785.0333212073077, 4505.198890372122, 2429.4865891593595, 19238.54206856723, 5240.762747806698, 4543.267891941511, 4975.616966679044, 10326.180086357215, 3251.024656481739, 2039.407897411748, 1446.752142104828, 1041.17461521143, 998.4463772110627, 981.2357837419747, 1047.8098125261943, 917.4142287703171, 889.2425523037405, 882.289345946368, 865.5546499521988, 893.3959830184898, 800.0057000022005, 773.3787968602161, 766.519384153453, 816.2214605581519, 700.3354232357462, 680.8143869282328, 619.5536515866578, 598.0680863876819, 591.5014803870573, 579.7343654257247, 548.7276003833064, 544.208004337066, 539.5552211201226, 532.4212211549526, 528.9525999244212, 522.310698445344, 517.7343726222807, 771.2979868102116, 672.3293984169836, 1038.9168222021776, 643.4294169875735, 2148.4728274827266, 682.2765721287326, 3709.991975164067, 5240.762747806698, 1829.7754263462293, 1307.3980559146717, 19238.54206856723, 2566.276914783553, 1120.6982578814927, 8387.628136752843, 2901.9079917882564, 14213.996851111633, 3440.559321001325, 2575.2697806228607, 2338.815796909417, 1918.943218582841, 1861.1647549504585, 2434.2916993504455, 2230.1095580895053, 1439.0938847959405, 1405.9073251021819, 1404.7492718207334, 1367.315047175327, 1099.0490245452013, 986.1620263128486, 900.6885103095739, 877.8485870961433, 852.439006579594, 832.6425682995389, 793.9592398445869, 787.8596605922816, 753.023629954134, 1355.0869314113058, 610.7738190497469, 598.0568399054638, 555.3202582537252, 523.1969322729, 499.01536882067313, 500.3507480414594, 503.436707521214, 508.14650534032944, 1563.5017933885347, 814.7488140083659, 644.029002219811, 1533.7286510105023, 3856.8508633367173, 2901.9079917882564, 1682.7078010674063, 2638.8600377309626, 2691.916102938828, 12086.576478971938, 3916.3032694545313, 3928.6366893704126, 19238.54206856723, 8387.628136752843, 5699.820528283047, 1328.202586908046, 8238.391317904658, 2708.5874960176643, 6700.197363647974], \"Category\": [\"Default\", \"Default\", \"Default\", \"Default\", \"Default\", \"Default\", \"Default\", \"Default\", \"Default\", \"Default\", \"Default\", \"Default\", \"Default\", \"Default\", \"Default\", \"Default\", \"Default\", \"Default\", \"Default\", \"Default\", \"Default\", \"Default\", \"Default\", \"Default\", \"Default\", \"Default\", \"Default\", \"Default\", \"Default\", \"Default\", \"Topic1\", \"Topic1\", \"Topic1\", \"Topic1\", \"Topic1\", \"Topic1\", \"Topic1\", \"Topic1\", \"Topic1\", \"Topic1\", \"Topic1\", \"Topic1\", \"Topic1\", \"Topic1\", \"Topic1\", \"Topic1\", \"Topic1\", \"Topic1\", \"Topic1\", \"Topic1\", \"Topic1\", \"Topic1\", \"Topic1\", \"Topic1\", \"Topic1\", \"Topic1\", \"Topic1\", \"Topic1\", \"Topic1\", \"Topic1\", \"Topic1\", \"Topic1\", \"Topic1\", \"Topic1\", \"Topic1\", \"Topic1\", \"Topic1\", \"Topic1\", \"Topic1\", \"Topic1\", \"Topic1\", \"Topic1\", \"Topic1\", \"Topic1\", \"Topic1\", \"Topic1\", \"Topic1\", \"Topic1\", \"Topic1\", \"Topic1\", \"Topic1\", \"Topic1\", \"Topic2\", \"Topic2\", \"Topic2\", \"Topic2\", \"Topic2\", \"Topic2\", \"Topic2\", \"Topic2\", \"Topic2\", \"Topic2\", \"Topic2\", \"Topic2\", \"Topic2\", \"Topic2\", \"Topic2\", \"Topic2\", \"Topic2\", \"Topic2\", \"Topic2\", \"Topic2\", \"Topic2\", \"Topic2\", \"Topic2\", \"Topic2\", \"Topic2\", \"Topic2\", \"Topic2\", \"Topic2\", \"Topic2\", \"Topic2\", \"Topic2\", \"Topic2\", \"Topic2\", \"Topic2\", \"Topic2\", \"Topic2\", \"Topic2\", \"Topic2\", \"Topic2\", \"Topic2\", \"Topic2\", \"Topic2\", \"Topic2\", \"Topic3\", \"Topic3\", \"Topic3\", \"Topic3\", \"Topic3\", \"Topic3\", \"Topic3\", \"Topic3\", \"Topic3\", \"Topic3\", \"Topic3\", \"Topic3\", \"Topic3\", \"Topic3\", \"Topic3\", \"Topic3\", \"Topic3\", \"Topic3\", \"Topic3\", \"Topic3\", \"Topic3\", \"Topic3\", \"Topic3\", \"Topic3\", \"Topic3\", \"Topic3\", \"Topic3\", \"Topic3\", \"Topic3\", \"Topic3\", \"Topic3\", \"Topic3\", \"Topic3\", \"Topic3\", \"Topic3\", \"Topic3\", \"Topic3\", \"Topic3\", \"Topic3\", \"Topic3\", \"Topic3\", \"Topic3\", \"Topic3\", \"Topic4\", \"Topic4\", \"Topic4\", \"Topic4\", \"Topic4\", \"Topic4\", \"Topic4\", \"Topic4\", \"Topic4\", \"Topic4\", \"Topic4\", \"Topic4\", \"Topic4\", \"Topic4\", \"Topic4\", \"Topic4\", \"Topic4\", \"Topic4\", \"Topic4\", \"Topic4\", \"Topic4\", \"Topic4\", \"Topic4\", \"Topic4\", \"Topic4\", \"Topic4\", \"Topic4\", \"Topic4\", \"Topic4\", \"Topic4\", \"Topic4\", \"Topic4\", \"Topic4\", \"Topic4\", \"Topic4\", \"Topic4\", \"Topic4\", \"Topic4\", \"Topic4\", \"Topic4\", \"Topic4\", \"Topic4\", \"Topic4\", \"Topic4\", \"Topic4\", \"Topic5\", \"Topic5\", \"Topic5\", \"Topic5\", \"Topic5\", \"Topic5\", \"Topic5\", \"Topic5\", \"Topic5\", \"Topic5\", \"Topic5\", \"Topic5\", \"Topic5\", \"Topic5\", \"Topic5\", \"Topic5\", \"Topic5\", \"Topic5\", \"Topic5\", \"Topic5\", \"Topic5\", \"Topic5\", \"Topic5\", \"Topic5\", \"Topic5\", \"Topic5\", \"Topic5\", \"Topic5\", \"Topic5\", \"Topic5\", \"Topic5\", \"Topic5\", \"Topic5\", \"Topic5\", \"Topic5\", \"Topic5\", \"Topic5\", \"Topic5\", \"Topic5\", \"Topic5\", \"Topic5\", \"Topic5\", \"Topic5\", \"Topic5\", \"Topic5\", \"Topic5\", \"Topic5\", \"Topic5\", \"Topic5\"], \"logprob\": [30.0, 29.0, 28.0, 27.0, 26.0, 25.0, 24.0, 23.0, 22.0, 21.0, 20.0, 19.0, 18.0, 17.0, 16.0, 15.0, 14.0, 13.0, 12.0, 11.0, 10.0, 9.0, 8.0, 7.0, 6.0, 5.0, 4.0, 3.0, 2.0, 1.0, -2.9597, -4.4397, -4.5966, -4.657, -4.7593, -4.7664, -4.8786, -5.0655, -5.163, -5.1742, -5.1612, -4.8338, -4.8068, -5.262, -4.2819, -5.187, -5.3729, -5.3834, -5.3635, -4.926, -5.4231, -5.4697, -5.3994, -5.5751, -5.6775, -5.7014, -5.753, -5.8127, -5.7686, -5.8403, -5.5309, -2.2991, -3.4178, -3.5833, -4.9587, -5.285, -4.3228, -3.6248, -3.4611, -3.8434, -4.2212, -4.4741, -4.0628, -3.9177, -4.4914, -4.9275, -4.5921, -4.8752, -4.7025, -4.3432, -4.7748, -4.8184, -2.9239, -3.1068, -4.8526, -4.8422, -5.018, -5.0264, -3.8984, -5.1232, -5.1597, -5.1272, -5.1855, -5.2281, -5.2252, -5.2154, -5.2214, -4.9735, -5.2634, -5.3025, -5.299, -5.4024, -5.3951, -5.4324, -5.4407, -5.0191, -5.4733, -5.484, -5.5265, -5.5246, -5.5281, -5.569, -4.79, -5.0298, -5.2611, -5.4738, -3.1156, -3.43, -4.7179, -3.1462, -4.7209, -5.0517, -4.5675, -5.015, -4.8296, -2.7381, -3.5443, -3.8292, -4.2364, -4.3469, -4.5809, -4.5889, -4.3311, -4.6271, -4.7205, -4.7665, -4.8116, -3.9961, -3.8557, -4.9354, -3.3592, -4.9803, -4.8255, -5.1313, -4.6236, -4.868, -5.2036, -4.2601, -5.266, -5.3664, -5.3676, -5.4051, -5.4394, -5.4639, -5.4967, -3.2473, -3.5385, -5.2796, -5.3314, -5.3213, -5.3164, -5.1958, -4.0167, -4.6036, -3.9942, -4.5405, -4.7508, -4.9084, -2.4776, -3.6334, -4.0998, -4.4433, -4.7725, -4.8144, -4.8318, -4.7662, -4.8991, -4.9303, -4.9382, -4.9574, -4.9257, -5.0362, -5.0701, -5.079, -5.0162, -5.1694, -5.1978, -5.2921, -5.3274, -5.3385, -5.3586, -5.4136, -5.4219, -5.4305, -5.4439, -5.4504, -5.4631, -5.4719, -5.0734, -5.2106, -4.7853, -5.2565, -4.0944, -5.2029, -3.6902, -3.4907, -4.5429, -4.7813, -3.6311, -4.6414, -5.0673, -4.9902, -5.1012, -2.4928, -3.9116, -4.2014, -4.2977, -4.4957, -4.5262, -4.2579, -4.3455, -4.7836, -4.8069, -4.8077, -4.8347, -5.0533, -5.1618, -5.2525, -5.2782, -5.3076, -5.3311, -5.3787, -5.3865, -5.4317, -4.8442, -5.6413, -5.6624, -5.7366, -5.7963, -5.8437, -5.841, -5.8349, -5.8256, -4.7023, -5.3538, -5.5906, -4.7377, -3.846, -4.3805, -4.8312, -4.4856, -4.479, -3.4961, -4.3861, -4.472, -3.7063, -4.2202, -4.535, -5.1343, -4.6971, -5.0289, -5.0378], \"loglift\": [30.0, 29.0, 28.0, 27.0, 26.0, 25.0, 24.0, 23.0, 22.0, 21.0, 20.0, 19.0, 18.0, 17.0, 16.0, 15.0, 14.0, 13.0, 12.0, 11.0, 10.0, 9.0, 8.0, 7.0, 6.0, 5.0, 4.0, 3.0, 2.0, 1.0, 1.3966, 1.3964, 1.3963, 1.3963, 1.3962, 1.3962, 1.3962, 1.3961, 1.396, 1.396, 1.396, 1.396, 1.3959, 1.3959, 1.3959, 1.3958, 1.3958, 1.3958, 1.3958, 1.3958, 1.3958, 1.3957, 1.3956, 1.3956, 1.3955, 1.3955, 1.3954, 1.3954, 1.3953, 1.3953, 1.3948, 1.3572, 1.3666, 1.3653, 1.3866, 1.3892, 1.3124, 1.1367, 1.0938, 1.13, 1.1809, 1.2152, 1.0872, 1.0056, 0.9589, 1.1682, 0.7033, 0.9808, 0.5961, -0.6364, 0.2844, 0.3401, 1.6209, 1.6207, 1.6204, 1.6204, 1.6202, 1.6202, 1.6202, 1.6202, 1.6201, 1.6201, 1.6201, 1.6201, 1.6201, 1.6201, 1.62, 1.62, 1.62, 1.62, 1.62, 1.6199, 1.6199, 1.6199, 1.6198, 1.6198, 1.6198, 1.6198, 1.6197, 1.6197, 1.6197, 1.6197, 1.6182, 1.6188, 1.6092, 1.6175, 1.056, 1.107, 1.2946, 0.5606, 1.0003, 1.2241, 0.4917, 0.7611, 0.1438, 1.7232, 1.7231, 1.7231, 1.7229, 1.7229, 1.7228, 1.7228, 1.7227, 1.7227, 1.7227, 1.7227, 1.7226, 1.7226, 1.7226, 1.7225, 1.7225, 1.7225, 1.7224, 1.7224, 1.7224, 1.7223, 1.7223, 1.7222, 1.7222, 1.7221, 1.7221, 1.7221, 1.7221, 1.722, 1.722, 1.7192, 1.721, 1.7218, 1.7218, 1.7214, 1.7199, 1.71, 1.1418, 1.1724, -0.2874, 0.4667, 0.3992, 0.1508, 1.8514, 1.8514, 1.8512, 1.8511, 1.8509, 1.8508, 1.8508, 1.8508, 1.8508, 1.8507, 1.8507, 1.8507, 1.8507, 1.8506, 1.8506, 1.8506, 1.8506, 1.8505, 1.8504, 1.8504, 1.8503, 1.8503, 1.8503, 1.8502, 1.8502, 1.8502, 1.8502, 1.8502, 1.8501, 1.8501, 1.85, 1.8501, 1.8402, 1.8482, 1.8045, 1.8431, 1.6625, 1.5165, 1.5166, 1.6143, 0.0757, 1.0798, 1.4825, -0.4533, 0.4972, 1.5166, 1.5164, 1.5164, 1.5164, 1.5163, 1.5163, 1.5162, 1.5161, 1.5161, 1.5161, 1.5161, 1.5161, 1.516, 1.5159, 1.5158, 1.5158, 1.5158, 1.5157, 1.5157, 1.5157, 1.5156, 1.5156, 1.5154, 1.5154, 1.5153, 1.5152, 1.5151, 1.5151, 1.5151, 1.5151, 1.5144, 1.5148, 1.5132, 1.4983, 1.4679, 1.2179, 1.3121, 1.2078, 1.1945, 0.6755, 0.9125, 0.8234, 0.0005, 0.3168, 0.3883, 1.2456, -0.1422, 0.6384, -0.2762]}, \"token.table\": {\"Topic\": [1, 4, 5, 1, 3, 2, 4, 1, 5, 5, 5, 5, 1, 4, 1, 3, 4, 1, 4, 1, 4, 5, 1, 4, 1, 5, 2, 4, 4, 4, 2, 4, 1, 1, 2, 3, 4, 5, 5, 3, 5, 5, 3, 1, 1, 3, 4, 5, 5, 1, 4, 1, 4, 2, 3, 2, 4, 1, 5, 2, 1, 1, 2, 4, 1, 2, 3, 4, 5, 5, 3, 2, 5, 2, 4, 1, 4, 1, 3, 1, 2, 3, 3, 4, 3, 5, 2, 3, 3, 1, 5, 3, 5, 1, 2, 4, 5, 4, 1, 2, 1, 2, 3, 4, 5, 3, 4, 5, 1, 2, 3, 5, 4, 2, 5, 4, 4, 1, 5, 1, 3, 4, 5, 4, 5, 1, 2, 4, 5, 1, 3, 1, 3, 4, 4, 1, 2, 3, 4, 2, 3, 1, 2, 2, 2, 1, 4, 2, 5, 5, 1, 2, 1, 5, 2, 4, 5, 1, 3, 2, 5, 2, 4, 5, 3, 3, 1, 5, 2, 3, 2, 2, 2, 5, 3, 1, 3, 1, 2, 4, 5, 4, 4, 3, 4, 5, 1, 3, 2, 4, 1, 5, 4, 3, 5, 3, 5, 2, 3, 5, 4, 1, 2, 3, 4, 5, 1, 5, 3, 5, 5, 2, 5, 1, 2, 3, 4, 5, 4, 3, 5, 3, 5, 2, 3, 1, 2, 3, 4, 3, 1, 2, 3, 3, 4, 1, 3, 1, 2, 3, 4, 1, 3, 4, 2, 4, 3, 2, 2, 5, 4, 2, 2, 4, 3, 1, 1, 2, 5, 1, 5, 1, 5, 5, 2, 2, 5, 1, 1, 2, 4, 5, 1, 1, 4, 5, 4, 4, 2, 3, 2, 4, 1, 3, 1, 4, 5, 1, 3, 3, 2, 1, 1, 2, 3, 5, 1, 4, 5, 4, 1, 2, 3, 4, 5, 3, 3, 2, 1, 2, 1, 2, 3, 4, 5, 1, 4, 5, 1, 5, 2, 4, 1, 5, 5, 2, 2, 3, 4, 5, 5, 3, 5, 2, 5, 1], \"Freq\": [0.9992017825287833, 0.9983171396368095, 0.0012965157657620903, 0.001011856025198721, 0.9987018968711375, 0.3078437907561035, 0.6915331531477688, 0.91928446936208, 0.08045079953577129, 0.9991325473198722, 0.9995069329697358, 0.9996511923211333, 0.9989205795723742, 0.9987405843096528, 0.0014609059282535857, 0.997798748997199, 0.998602684610041, 0.9980396101442698, 0.0012995307423753512, 0.9689709000972931, 0.03058961058802968, 0.0003598777716238786, 0.0031083440501736117, 0.9962242680806426, 0.9978682034530195, 0.9992989956688736, 0.9984533881795703, 0.9996848204520086, 0.9987428839542047, 0.9995484822915028, 0.99907814268479, 0.9995102052684223, 0.9996543880589355, 0.3475984164309893, 0.0002219657831615513, 0.5591318077839478, 0.0017757262652924105, 0.09144990266255913, 0.9998374331179495, 0.9993709233467073, 0.9990333331868194, 0.9977437504178808, 0.9993444429981092, 0.9994134599126786, 0.9612346413230004, 0.0035582979010414413, 4.942080418113113e-05, 0.03513819177278423, 0.9992355733400693, 0.9988400180044291, 0.9988038047610786, 0.9991037650551893, 0.0006479272146920812, 0.999314298514759, 0.9989664665649288, 0.9994857956073083, 0.9991521908166161, 0.4999189681534901, 0.4999189681534901, 0.999091973294065, 0.9993258917365404, 0.0001442521573492893, 0.9996674504305748, 0.9993591970741196, 0.7710220639213128, 0.0001492493348666885, 0.000596997339466754, 0.06178922463480904, 0.16641300837635767, 0.9992398794772895, 0.9994528409906901, 0.9993202892139065, 0.9992282783465525, 0.9993150393317287, 0.9989709651609524, 0.21110632584420283, 0.7885892099470041, 0.7338330204814876, 0.26610801492565045, 0.9898934723826908, 0.0065459524257488735, 0.0029093121892217215, 0.9993805078589093, 0.998871836487109, 0.9872192416089073, 0.012738312794953641, 0.9996264023622337, 0.9997684979966298, 0.9994057067333125, 0.7956255028031577, 0.20400653918029685, 0.9985575648248112, 0.9987330513757928, 0.0003309456575200716, 0.5683164303763429, 8.27364143800179e-05, 0.43122219174865334, 0.9987332725649524, 0.9991914900854765, 0.9988376036177923, 0.6454973744337454, 0.14562325666322987, 0.004457854795813159, 0.0014859515986043864, 0.20298098836935918, 0.998738039918028, 0.25810604682143634, 0.741581058424207, 0.9990197843222737, 0.42313466745898115, 0.5762534381737098, 0.00041160959869550697, 0.9997999922368322, 0.0007379600354927139, 0.9991978880571346, 0.9981990826313033, 0.9986740226247083, 0.9995855831093582, 0.9994849994237647, 0.7386150724323267, 0.03629349328796478, 0.034715515318922835, 0.1903284196505979, 0.999552928208013, 0.9999298683458231, 0.23828060740252846, 0.04536075783121528, 0.7153883373621783, 0.0005465151545929552, 0.0006166720398435308, 0.9992142618931343, 0.0036640018551871963, 0.9958757042398799, 0.0003664001855187196, 0.9995567665111367, 0.6599436978168012, 0.3397818227948666, 0.2846913840212313, 0.7153538865251985, 0.998897531591918, 0.9987058165223861, 0.9990494031715248, 0.9990226466651537, 0.9992368544851977, 0.9990711856188774, 0.998838714974105, 0.0007104116038222653, 0.7216556315282134, 0.27792084653507065, 0.9994666152631193, 0.9990274149669557, 0.9992983370270988, 0.999219011846664, 0.9994232908867177, 0.6723922263909111, 0.11534478152013612, 0.21237009774001533, 0.0006755372417489574, 0.9991195805467079, 0.0012273721456312937, 0.9978535543982419, 0.9975202129919409, 0.0023234166451675644, 0.0007744722150558548, 0.9989537920650167, 0.9997543099124725, 0.9992607526053954, 0.9995084697797689, 0.0007277620591308232, 0.9992173071866204, 0.9993187187780129, 0.9990642997197839, 0.9990849792956666, 0.9977122719972761, 0.9991861522565104, 0.999086185955018, 0.0007461435294660329, 0.7658625580074264, 0.22835689952148217, 0.0003689126001962555, 0.005349232702845705, 0.9992088573140664, 0.9977802525368263, 0.9993997587327794, 0.99821410569801, 0.9988216679593785, 0.9989886379998796, 0.0006306746452019442, 0.17223756932027906, 0.8277645937129531, 0.0031054502097055993, 0.9968495173154974, 0.9994051463118241, 0.9998878242275083, 0.998640640328649, 0.00041079711205803117, 0.9994693736371898, 0.13928598078600785, 0.09787663514692442, 0.7626848569525726, 0.9993224122387634, 0.8060300372907381, 0.005381085983318349, 0.0008496451552607921, 0.17615976219073753, 0.01161181712189749, 0.017604157021003004, 0.981920758282612, 0.04744803636033759, 0.9523313527405464, 0.9979652554127285, 0.9991092621626594, 0.0006363753262182543, 0.00047689286348697694, 0.5980236508126691, 0.00047689286348697694, 0.09978983168464992, 0.30115784329202594, 0.9991063702308268, 0.9979633295394439, 0.0014016338898025897, 0.9995547309798153, 0.9982328771532304, 0.9986448575265601, 0.9979654092910334, 0.0009822276204416486, 0.0004911138102208243, 0.9976977054636046, 0.0007366707153312364, 0.9993729902692512, 0.0003886851034394109, 0.0003886851034394109, 0.9993094009427254, 0.998795898334422, 0.9992271378674705, 0.9996580216444807, 0.9982614257733284, 0.9983746863851559, 0.002902984026549727, 0.9971750131198314, 0.9985815648697204, 0.9984262597701933, 0.007328406403285668, 0.9908005457242224, 0.9980254151269102, 0.9994801168196414, 0.9993667674489045, 0.9988832148001909, 0.9884808956799189, 0.01106508465313342, 0.9996720509573221, 0.9986922058850911, 0.5377439948316697, 0.4621480999060581, 0.9997605063552097, 0.9996241836112321, 0.31344750769478674, 0.27098995364896755, 0.4153456374047528, 0.2656450095787416, 0.7344080293346665, 0.9997396879578907, 0.9993741795575268, 0.9990455161491678, 0.9985788270533348, 0.9984425698139345, 0.9997695869902274, 0.9990132740959776, 0.9996199251963569, 0.010587950608676691, 0.9885295704646329, 0.0009625409644251537, 0.9984631782881134, 0.04561379541151674, 0.9541661285062176, 0.9993546337756538, 0.9980226977726785, 0.9985035182028703, 0.999872534104795, 0.9997561191018831, 0.9968567113550635, 0.0030672514195540413, 0.834104263982715, 0.16568858456489224, 0.0005942802424554409, 0.18422687516118666, 0.8147582124064094, 0.9923432806010891, 0.007073730106117743, 0.9980793160912325, 0.9991421880120908, 0.9996415087937428, 0.4491480559535411, 0.0017873998815661103, 0.0028087712424610307, 0.5464336780787823, 0.9993398106457329, 0.00044840846332979355, 0.9995024647621098, 0.999521053448651, 0.32880344507144443, 0.3231760022462608, 0.20741146412819722, 0.13948019002419465, 0.0008039204035976637, 0.9979605216759987, 0.9982980202975321, 0.9986185737939525, 0.0009754961872428889, 0.9989080957367182, 0.13093507766971865, 0.3463360152891367, 0.13389788014180043, 0.16934755182530503, 0.21955925687848019, 0.9704314403346944, 0.019851469275139304, 0.009773031027760889, 0.9999300294760232, 9.951532936664244e-05, 0.00019368246372561022, 0.9997888777516, 0.6763370848031314, 0.3235189583338455, 0.9989088658357819, 0.9980024979575632, 0.003714826026369383, 0.26895340430914333, 0.002600378218458568, 0.7243910751420296, 0.998791827342705, 0.0019187697850337492, 0.9977602882175496, 0.9977960126200012, 0.0009849911279565659, 0.9986141603242437], \"Term\": [\"accord\", \"across\", \"across\", \"add\", \"add\", \"analysis\", \"analysis\", \"another\", \"another\", \"append\", \"apply\", \"argument\", \"array\", \"assign\", \"attribute\", \"attribute\", \"average\", \"barplot\", \"barplot\", \"base\", \"base\", \"base\", \"boxplot\", \"boxplot\", \"break\", \"build\", \"button\", \"calculate\", \"calculation\", \"caret\", \"categorical\", \"category\", \"certain\", \"change\", \"change\", \"change\", \"change\", \"change\", \"character\", \"chart\", \"check\", \"chunk\", \"color\", \"colors\", \"column\", \"column\", \"column\", \"column\", \"combination\", \"combine\", \"compare\", \"condition\", \"condition\", \"conditional\", \"conditions\", \"connect\", \"connection\", \"convert\", \"convert\", \"correlation\", \"count\", \"create\", \"create\", \"curve\", \"dataframe\", \"dataframe\", \"dataframe\", \"dataframe\", \"dataframe\", \"dataset\", \"date\", \"default\", \"define\", \"delete\", \"density\", \"difference\", \"difference\", \"different\", \"different\", \"display\", \"display\", \"display\", \"distance\", \"distribution\", \"document\", \"document\", \"download\", \"dplyr\", \"duplicate\", \"elements\", \"elements\", \"empty\", \"environment\", \"error\", \"error\", \"error\", \"error\", \"estimate\", \"every\", \"excel\", \"extract\", \"extract\", \"extract\", \"extract\", \"extract\", \"facet\", \"factor\", \"factor\", \"fail\", \"file\", \"file\", \"file\", \"filter\", \"first\", \"first\", \"fix\", \"forecast\", \"format\", \"found\", \"frame\", \"frame\", \"frame\", \"frame\", \"frequency\", \"function\", \"generate\", \"generate\", \"generate\", \"generate\", \"ggplot\", \"ggplot\", \"ggplot2\", \"ggplot2\", \"ggplot2\", \"given\", \"graph\", \"graph\", \"group\", \"group\", \"grouping\", \"header\", \"histogram\", \"igraph\", \"image\", \"import\", \"index\", \"index\", \"input\", \"input\", \"inside\", \"install\", \"installing\", \"interval\", \"invalid\", \"issue\", \"issue\", \"issue\", \"label\", \"label\", \"lapply\", \"lapply\", \"large\", \"large\", \"large\", \"leaflet\", \"legend\", \"length\", \"level\", \"line\", \"line\", \"linear\", \"list\", \"loading\", \"looping\", \"markdown\", \"match\", \"match\", \"matrix\", \"matrix\", \"matrix\", \"matrix\", \"maximum\", \"memory\", \"merge\", \"merging\", \"message\", \"miss\", \"miss\", \"model\", \"model\", \"modify\", \"modify\", \"multi\", \"multiple\", \"mutate\", \"names\", \"names\", \"nest\", \"nest\", \"nest\", \"network\", \"number\", \"number\", \"number\", \"number\", \"number\", \"numeric\", \"numeric\", \"object\", \"object\", \"operator\", \"output\", \"output\", \"package\", \"package\", \"package\", \"package\", \"package\", \"panel\", \"parallel\", \"parallel\", \"parse\", \"passing\", \"pattern\", \"percentage\", \"plot\", \"plot\", \"plot\", \"plot\", \"plotly\", \"point\", \"point\", \"point\", \"position\", \"possible\", \"predict\", \"prediction\", \"previous\", \"print\", \"print\", \"probability\", \"produce\", \"programming\", \"programming\", \"query\", \"random\", \"range\", \"reactive\", \"reading\", \"reading\", \"reference\", \"regex\", \"regression\", \"regression\", \"remove\", \"replace\", \"result\", \"result\", \"result\", \"return\", \"return\", \"rmarkdown\", \"rstudio\", \"running\", \"rvest\", \"scraping\", \"script\", \"second\", \"select\", \"separate\", \"separate\", \"separate\", \"sequence\", \"series\", \"series\", \"server\", \"setting\", \"several\", \"shiny\", \"single\", \"space\", \"space\", \"specific\", \"specific\", \"split\", \"split\", \"split\", \"stack\", \"stack\", \"start\", \"statement\", \"store\", \"string\", \"string\", \"string\", \"string\", \"studio\", \"subset\", \"subset\", \"subsetting\", \"table\", \"table\", \"table\", \"table\", \"table\", \"title\", \"transform\", \"try\", \"unable\", \"unable\", \"using\", \"using\", \"using\", \"using\", \"using\", \"value\", \"value\", \"value\", \"values\", \"values\", \"variable\", \"variable\", \"vector\", \"vector\", \"warning\", \"weight\", \"within\", \"within\", \"within\", \"within\", \"words\", \"working\", \"working\", \"write\", \"write\", \"wrong\"]}, \"R\": 30, \"lambda.step\": 0.01, \"plot.opts\": {\"xlab\": \"PC1\", \"ylab\": \"PC2\"}, \"topic.order\": [1, 2, 3, 4, 5]};\n",
       "\n",
       "function LDAvis_load_lib(url, callback){\n",
       "  var s = document.createElement('script');\n",
       "  s.src = url;\n",
       "  s.async = true;\n",
       "  s.onreadystatechange = s.onload = callback;\n",
       "  s.onerror = function(){console.warn(\"failed to load library \" + url);};\n",
       "  document.getElementsByTagName(\"head\")[0].appendChild(s);\n",
       "}\n",
       "\n",
       "if(typeof(LDAvis) !== \"undefined\"){\n",
       "   // already loaded: just create the visualization\n",
       "   !function(LDAvis){\n",
       "       new LDAvis(\"#\" + \"ldavis_el202091405722216315048749695192\", ldavis_el202091405722216315048749695192_data);\n",
       "   }(LDAvis);\n",
       "}else if(typeof define === \"function\" && define.amd){\n",
       "   // require.js is available: use it to load d3/LDAvis\n",
       "   require.config({paths: {d3: \"https://d3js.org/d3.v5\"}});\n",
       "   require([\"d3\"], function(d3){\n",
       "      window.d3 = d3;\n",
       "      LDAvis_load_lib(\"https://cdn.jsdelivr.net/gh/bmabey/pyLDAvis@3.3.1/pyLDAvis/js/ldavis.v3.0.0.js\", function(){\n",
       "        new LDAvis(\"#\" + \"ldavis_el202091405722216315048749695192\", ldavis_el202091405722216315048749695192_data);\n",
       "      });\n",
       "    });\n",
       "}else{\n",
       "    // require.js not available: dynamically load d3 & LDAvis\n",
       "    LDAvis_load_lib(\"https://d3js.org/d3.v5.js\", function(){\n",
       "         LDAvis_load_lib(\"https://cdn.jsdelivr.net/gh/bmabey/pyLDAvis@3.3.1/pyLDAvis/js/ldavis.v3.0.0.js\", function(){\n",
       "                 new LDAvis(\"#\" + \"ldavis_el202091405722216315048749695192\", ldavis_el202091405722216315048749695192_data);\n",
       "            })\n",
       "         });\n",
       "}\n",
       "</script>"
      ],
      "text/plain": [
       "<IPython.core.display.HTML object>"
      ]
     },
     "execution_count": 21,
     "metadata": {},
     "output_type": "execute_result"
    }
   ],
   "source": [
    "dictionary = Dictionary.load(join(MODELS_DIR, \"dictionary.gensim\"))\n",
    "corpus = pickle.load(open(join(MODELS_DIR, \"corpus.pkl\"), \"rb\"))\n",
    "lda = LdaModel.load(join(MODELS_DIR, \"lda_model_5.gensim\"))\n",
    "lda_display = gensimvis.prepare(lda, corpus, dictionary, sort_topics=False)\n",
    "pyLDAvis.display(lda_display)"
   ]
  }
 ],
 "metadata": {
  "interpreter": {
   "hash": "9d1d4a31fd394edaf21d74294ba63853de24e6c25ad80bd4e86b4df595896c02"
  },
  "kernelspec": {
   "display_name": "Python 3.10.0 64-bit ('cmpe-351-_rWzjxJw': pipenv)",
   "language": "python",
   "name": "python3"
  },
  "language_info": {
   "codemirror_mode": {
    "name": "ipython",
    "version": 3
   },
   "file_extension": ".py",
   "mimetype": "text/x-python",
   "name": "python",
   "nbconvert_exporter": "python",
   "pygments_lexer": "ipython3",
   "version": "3.9.11"
  }
 },
 "nbformat": 4,
 "nbformat_minor": 2
}
