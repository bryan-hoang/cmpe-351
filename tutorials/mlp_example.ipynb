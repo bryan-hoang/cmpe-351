{
 "cells": [
  {
   "cell_type": "code",
   "execution_count": 32,
   "metadata": {
    "collapsed": true
   },
   "outputs": [],
   "source": [
    "import torch\n",
    "import torchvision\n",
    "import numpy as np\n",
    "import pandas as pd\n",
    "import matplotlib.pyplot as plt\n",
    "import torch.nn as nn\n",
    "from torchvision.transforms import transforms\n",
    "import torch.nn.functional as F"
   ]
  },
  {
   "cell_type": "code",
   "execution_count": 33,
   "metadata": {
    "collapsed": false,
    "pycharm": {
     "name": "#%%\n"
    }
   },
   "outputs": [],
   "source": [
    "#hyper parameters:\n",
    "input_size=784   #28X28 pixel of image\n",
    "\n",
    "hidden_size1=200 #size of 1st hidden layer\n",
    "hidden_size2=150 #size of second hidden layer\n",
    "\n",
    "output =10       #output layer, number of classes\n",
    "\n",
    "num_epoch = 2\n",
    "bach_size=100\n",
    "lr_rate=0.01"
   ]
  },
  {
   "cell_type": "code",
   "execution_count": 34,
   "metadata": {
    "collapsed": false,
    "pycharm": {
     "name": "#%%\n"
    }
   },
   "outputs": [],
   "source": [
    "#start data loading\n",
    "train_dataset=torchvision.datasets.MNIST('./data',train=True,transform=transforms.ToTensor(),download=True)\n",
    "test_dataset=torchvision.datasets.MNIST('./data',train=False,transform=transforms.ToTensor(),download=False)\n",
    "\n",
    "train_dataloader=torch.utils.data.DataLoader(dataset=train_dataset,batch_size=bach_size,shuffle=True)\n",
    "test_dataloader=torch.utils.data.DataLoader(dataset=test_dataset,batch_size=bach_size,shuffle=False)"
   ]
  },
  {
   "cell_type": "code",
   "execution_count": 35,
   "metadata": {
    "collapsed": false,
    "pycharm": {
     "name": "#%%\n"
    }
   },
   "outputs": [
    {
     "name": "stdout",
     "output_type": "stream",
     "text": [
      "number of samplestorch.Size([100, 1, 28, 28])\n",
      "number of labels torch.Size([100])\n",
      "600\n",
      "100\n"
     ]
    }
   ],
   "source": [
    "# check status of training data\n",
    "data=iter(train_dataloader)\n",
    "samples,labels=next(data)\n",
    "print(f\"number of samples{samples.shape}\")\n",
    "print(f\"number of labels {labels.shape}\")\n",
    "\n",
    "# check number of train/test data\n",
    "print(len(train_dataloader))\n",
    "print(len(test_dataloader))"
   ]
  },
  {
   "cell_type": "code",
   "execution_count": 36,
   "metadata": {
    "collapsed": false,
    "pycharm": {
     "name": "#%%\n"
    }
   },
   "outputs": [
    {
     "data": {
      "image/png": "[encoded data removed]",
      "text/plain": [
       "<Figure size 720x576 with 10 Axes>"
      ]
     },
     "metadata": {
      "needs_background": "light"
     },
     "output_type": "display_data"
    }
   ],
   "source": [
    "plt.figure(figsize=(10,8))\n",
    "for i in range(10):\n",
    "    plt.subplot(2,5,i+1)\n",
    "    plt.imshow(samples[i][0],cmap='Greens')\n",
    "plt.show()"
   ]
  },
  {
   "cell_type": "code",
   "execution_count": 37,
   "metadata": {
    "collapsed": false,
    "pycharm": {
     "name": "#%%\n"
    }
   },
   "outputs": [
    {
     "name": "stdout",
     "output_type": "stream",
     "text": [
      "MyMLP2(\n",
      "  (l1): Linear(in_features=784, out_features=200, bias=True)\n",
      "  (relu): ReLU()\n",
      "  (l2): Linear(in_features=200, out_features=150, bias=True)\n",
      "  (out_connected): Linear(in_features=150, out_features=10, bias=True)\n",
      ")\n"
     ]
    }
   ],
   "source": [
    "#define neural network\n",
    "class MyMLP1(nn.Module):\n",
    "    def __init__(self,input_size,hidden_size1,hidden_size2,output):\n",
    "        super().__init__()\n",
    "        self.f_connected1=nn.Linear(input_size,hidden_size1)\n",
    "        self.f_connected2=nn.Linear(hidden_size1,hidden_size2)\n",
    "        self.out_connected=nn.Linear(hidden_size2,output)\n",
    "\n",
    "    def forward(self,X):\n",
    "        out=F.relu(self.f_connected1(X))\n",
    "        out=F.relu(self.f_connected2(out))\n",
    "        out=self.out_connected(out)\n",
    "        return out\n",
    "\n",
    "#define neural network\n",
    "class MyMLP2(nn.Module):\n",
    "    def __init__(self,input_size,hidden_size1,hidden_size2,output):\n",
    "        super().__init__()\n",
    "        self.l1=nn.Linear(input_size,hidden_size1)\n",
    "        self.relu=nn.ReLU()\n",
    "        self.l2=nn.Linear(hidden_size1,hidden_size2)\n",
    "        self.out_connected=nn.Linear(hidden_size2,output)\n",
    "\n",
    "    def forward(self,X):\n",
    "        out=self.l1(X)\n",
    "        out=self.relu(out)\n",
    "        out=self.l2(out)\n",
    "        out=self.relu(out)\n",
    "        out=self.out_connected(out)\n",
    "        return out\n",
    "\n",
    "#create an empty model with given parameters\n",
    "Mnist_model=MyMLP2(input_size,hidden_size1,hidden_size2,output)\n",
    "print(Mnist_model)"
   ]
  },
  {
   "cell_type": "code",
   "execution_count": 38,
   "metadata": {
    "collapsed": false,
    "pycharm": {
     "name": "#%%\n"
    }
   },
   "outputs": [],
   "source": [
    "#another method, but not as flexiable as method 1\n",
    "class MySequential(nn.Module):\n",
    "    def __init__(self, *args):\n",
    "        super().__init__()\n",
    "        for block in args:\n",
    "            self._modules[block] = block\n",
    "\n",
    "    def forward(self, X):\n",
    "        for block in self._modules.values():\n",
    "            X = block(X)\n",
    "        return X\n",
    "\n",
    "#create an empty model with given parameters\n",
    "Mnist_model_v2 = MySequential(nn.Linear(input_size,hidden_size1),\n",
    "                   nn.ReLU(),\n",
    "                   nn.Linear(hidden_size1,hidden_size2),\n",
    "                   nn.ReLU(),\n",
    "                   nn.Linear(hidden_size2,output))"
   ]
  },
  {
   "cell_type": "code",
   "execution_count": 39,
   "metadata": {
    "collapsed": false,
    "pycharm": {
     "name": "#%%\n"
    }
   },
   "outputs": [
    {
     "name": "stdout",
     "output_type": "stream",
     "text": [
      "epoch 1/2, step 100/600, loss = 0.348922\n",
      "epoch 1/2, step 200/600, loss = 0.198691\n",
      "epoch 1/2, step 300/600, loss = 0.093247\n",
      "epoch 1/2, step 400/600, loss = 0.081121\n",
      "epoch 1/2, step 500/600, loss = 0.043478\n",
      "epoch 1/2, step 600/600, loss = 0.175408\n",
      "epoch 2/2, step 100/600, loss = 0.063620\n",
      "epoch 2/2, step 200/600, loss = 0.190170\n",
      "epoch 2/2, step 300/600, loss = 0.075489\n",
      "epoch 2/2, step 400/600, loss = 0.040962\n",
      "epoch 2/2, step 500/600, loss = 0.105665\n",
      "epoch 2/2, step 600/600, loss = 0.068656\n",
      "accuracy = 96.31\n"
     ]
    }
   ],
   "source": [
    "#define other parameters\n",
    "criterion=nn.CrossEntropyLoss()\n",
    "optimizer=torch.optim.Adam(Mnist_model.parameters(),lr=lr_rate)\n",
    "\n",
    "# training\n",
    "n_total_steps = len(train_dataloader)\n",
    "for epoch in range(num_epoch):\n",
    "    for i, (images, labels) in enumerate(train_dataloader):\n",
    "        images = images.reshape(-1, 28*28)\n",
    "\n",
    "        #forward\n",
    "        outputs = Mnist_model(images)\n",
    "        loss = criterion(outputs, labels)\n",
    "\n",
    "        #backwards\n",
    "        optimizer.zero_grad()\n",
    "        loss.backward()\n",
    "        optimizer.step()\n",
    "\n",
    "        if (i+1) % 100 == 0:\n",
    "            print(f'epoch {epoch+1}/{num_epoch}, step {i+1}/{n_total_steps}, loss = {loss.item():4f}')\n",
    "\n",
    "\n",
    "#testing\n",
    "with torch.no_grad():\n",
    "    n_correct = 0\n",
    "    n_samples = 0\n",
    "\n",
    "    for images, labels in test_dataloader:\n",
    "        images = images.reshape(-1, 28*28)\n",
    "        outputs = Mnist_model(images)\n",
    "\n",
    "        _,predictions = torch.max(outputs, 1)\n",
    "        n_samples += labels.shape[0]\n",
    "        n_correct += (predictions == labels).sum().item()\n",
    "\n",
    "    acc = 100.0 * n_correct /n_samples\n",
    "    print(f'accuracy = {acc}')\n"
   ]
  },
  {
   "cell_type": "code",
   "execution_count": 39,
   "metadata": {
    "collapsed": false,
    "pycharm": {
     "name": "#%%\n"
    }
   },
   "outputs": [],
   "source": []
  }
 ],
 "metadata": {
  "kernelspec": {
   "display_name": "Python 3",
   "language": "python",
   "name": "python3"
  },
  "language_info": {
   "codemirror_mode": {
    "name": "ipython",
    "version": 2
   },
   "file_extension": ".py",
   "mimetype": "text/x-python",
   "name": "python",
   "nbconvert_exporter": "python",
   "pygments_lexer": "ipython2",
   "version": "2.7.6"
  }
 },
 "nbformat": 4,
 "nbformat_minor": 0
}
